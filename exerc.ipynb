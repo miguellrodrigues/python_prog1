{
 "cells": [
  {
   "cell_type": "code",
   "execution_count": 12,
   "metadata": {
    "collapsed": true,
    "pycharm": {
     "name": "#%%\n"
    }
   },
   "outputs": [],
   "source": [
    "import numpy as np\n",
    "np.set_printoptions(precision=3, suppress=True)"
   ]
  },
  {
   "cell_type": "markdown",
   "metadata": {
    "collapsed": false,
    "pycharm": {
     "name": "#%% md\n"
    }
   },
   "source": [
    "Resolva os seguintes sistemas lineares (Caso exista soluçao):\n",
    "\n",
    "$$ x + y + z + 2w = 0 \\\\\n",
    "    0x + 0y + 0z -4w = 0 \\\\$$\n",
    "\n",
    "$$x + 4y + 7z = 1 \\\\\n",
    "    2x + 5y + 8z = 2 \\\\\n",
    "    3x + 6y + 10z = 1$$"
   ]
  },
  {
   "cell_type": "markdown",
   "metadata": {
    "collapsed": false,
    "pycharm": {
     "name": "#%% md\n"
    }
   },
   "source": [
    "Exerc. 2 -> Crie um dicionario contendo as informacoes sobre 5 capitais do mundo (de sua escolha). Informaçoes: (nome, pais, populacao)."
   ]
  },
  {
   "cell_type": "markdown",
   "metadata": {
    "collapsed": false,
    "pycharm": {
     "name": "#%% md\n"
    }
   },
   "source": []
  },
  {
   "cell_type": "markdown",
   "metadata": {
    "collapsed": false,
    "pycharm": {
     "name": "#%% md\n"
    }
   },
   "source": [
    "Exerc.3 -> Calcule a integral utilizando a funcao np.cumsum\n",
    "\n",
    "$$ \\int_0^{1} x^2 \\sin(2x) e^{-x} dx $$\n"
   ]
  },
  {
   "cell_type": "markdown",
   "metadata": {
    "collapsed": false,
    "pycharm": {
     "name": "#%% md\n"
    }
   },
   "source": [
    "Exerc.4 -> Considere a função $r(\\theta) = 1+\\frac{3}{4}\\sin(3 \\theta)$ para $0 \\leq \\theta \\leq 2 \\pi$\n",
    "\n",
    "1. Faça um plot da função (Nao precisa fazer essa, pois ainda nao vimos o matplotlib)\n",
    "2. Calcule a área usando a fórmula $A = \\int_{0}^{2\\pi} \\frac{1}{2} r^2 d\\theta$\n",
    "3. Calcule o perímetro usando a fórmula $L = \\int_{0}^{2 \\pi} \\sqrt{r^2 + \\left(\\frac{dr}{d\\theta}\\right)^2} d\\theta$\n",
    "\n",
    "\n",
    "Resposta esperada -> A = 4.02831, L = 11.640021"
   ]
  },
  {
   "cell_type": "code",
   "execution_count": 13,
   "metadata": {
    "collapsed": false,
    "pycharm": {
     "name": "#%%\n"
    }
   },
   "outputs": [
    {
     "name": "stdout",
     "output_type": "stream",
     "text": [
      "103.99999999999999\n",
      " \n",
      "[[-0.452  0.212  0.087]\n",
      " [ 0.365 -0.192  0.058]\n",
      " [ 0.24   0.058 -0.067]]\n",
      " \n",
      "[[ 1. -0. -0.]\n",
      " [ 0.  1.  0.]\n",
      " [ 0.  0.  1.]]\n"
     ]
    }
   ],
   "source": [
    "# Exemplo\n",
    "A = np.array([\n",
    "    [1, 2, 3],\n",
    "    [4, 1, 6],\n",
    "    [7, 8, 1]\n",
    "])\n",
    "\n",
    "determinante = np.linalg.det(A)\n",
    "print(determinante)\n",
    "\n",
    "inversa = np.linalg.inv(A)\n",
    "print(' ')\n",
    "print(inversa)\n",
    "\n",
    "# Propriedade: A-1A = I\n",
    "\n",
    "print(' ')\n",
    "print(inversa @ A)\n",
    "\n",
    "# A nao tem inversa se determinante for 0"
   ]
  }
 ],
 "metadata": {
  "kernelspec": {
   "display_name": "Python 3",
   "language": "python",
   "name": "python3"
  },
  "language_info": {
   "codemirror_mode": {
    "name": "ipython",
    "version": 2
   },
   "file_extension": ".py",
   "mimetype": "text/x-python",
   "name": "python",
   "nbconvert_exporter": "python",
   "pygments_lexer": "ipython2",
   "version": "2.7.6"
  }
 },
 "nbformat": 4,
 "nbformat_minor": 0
}
