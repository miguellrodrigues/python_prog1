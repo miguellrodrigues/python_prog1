{
 "cells": [
  {
   "cell_type": "code",
   "execution_count": 12,
   "metadata": {},
   "outputs": [],
   "source": [
    "var1 = 11\n",
    "\n",
    "# = atribuição\n",
    "# == comparação"
   ]
  },
  {
   "cell_type": "code",
   "execution_count": 13,
   "metadata": {},
   "outputs": [
    {
     "data": {
      "text/plain": [
       "1"
      ]
     },
     "execution_count": 13,
     "metadata": {},
     "output_type": "execute_result"
    }
   ],
   "source": [
    "# + - * / % **\n",
    "\n",
    "var2 = 5\n",
    "\n",
    "op_1 = var1 + var2\n",
    "op_2 = var1 - var2\n",
    "op_3 = var1 * var2\n",
    "op_4 = var1 / var2\n",
    "op_5 = var1 % var2\n",
    "op_6 = var1 ** var2\n",
    "\n",
    "op_5"
   ]
  },
  {
   "cell_type": "code",
   "execution_count": 15,
   "metadata": {},
   "outputs": [
    {
     "data": {
      "text/plain": [
       "float"
      ]
     },
     "execution_count": 15,
     "metadata": {},
     "output_type": "execute_result"
    }
   ],
   "source": [
    "type(op_4)"
   ]
  },
  {
   "cell_type": "code",
   "execution_count": 18,
   "metadata": {},
   "outputs": [
    {
     "name": "stdout",
     "output_type": "stream",
     "text": [
      "oi\n",
      "<class 'function'>\n"
     ]
    }
   ],
   "source": [
    "def soma(a, b):\n",
    "    d = a + b\n",
    "    return d    \n",
    "\n",
    "def faz_algo():\n",
    "    print('oi')\n",
    "\n",
    "soma(1, 2)\n",
    "faz_algo()\n",
    "\n",
    "print(type(soma))"
   ]
  },
  {
   "cell_type": "code",
   "execution_count": 31,
   "metadata": {},
   "outputs": [
    {
     "name": "stdout",
     "output_type": "stream",
     "text": [
      "teste\n"
     ]
    }
   ],
   "source": [
    "# se\n",
    "if 4 < 5:\n",
    "    print('teste')\n",
    "elif 5 != 5:\n",
    "    print('teste2')\n",
    "elif 5 > 1:\n",
    "    print('teste3')\n",
    "else:\n",
    "    print('teste4')"
   ]
  },
  {
   "cell_type": "code",
   "execution_count": 23,
   "metadata": {},
   "outputs": [
    {
     "data": {
      "text/plain": [
       "64"
      ]
     },
     "execution_count": 23,
     "metadata": {},
     "output_type": "execute_result"
    }
   ],
   "source": [
    "def fatorial(x):\n",
    "    if x == 0:\n",
    "        return 1\n",
    "    else:\n",
    "        return x * fatorial(x - 1)\n",
    "\n",
    "def exponencial(base, expoente):\n",
    "    if expoente == 0:\n",
    "        return 1\n",
    "    else:\n",
    "        return base * exponencial(base, expoente - 1)\n",
    "\n",
    "fatorial(5)\n",
    "exponencial(8, 2)"
   ]
  },
  {
   "cell_type": "code",
   "execution_count": 33,
   "metadata": {},
   "outputs": [
    {
     "data": {
      "text/plain": [
       "120"
      ]
     },
     "execution_count": 33,
     "metadata": {},
     "output_type": "execute_result"
    }
   ],
   "source": [
    "somar = lambda a, b: a + b\n",
    "\n",
    "somar(1, 2)"
   ]
  },
  {
   "cell_type": "markdown",
   "metadata": {},
   "source": [
    "$$\\Delta = b^2 -4ac$$"
   ]
  },
  {
   "cell_type": "code",
   "execution_count": 46,
   "metadata": {},
   "outputs": [
    {
     "data": {
      "text/plain": [
       "4"
      ]
     },
     "execution_count": 46,
     "metadata": {},
     "output_type": "execute_result"
    }
   ],
   "source": [
    "a = 1\n",
    "b = 2\n",
    "c = 0\n",
    "\n",
    "delta = b**2 - 4*a*c\n",
    "\n",
    "delta"
   ]
  },
  {
   "cell_type": "code",
   "execution_count": 47,
   "metadata": {},
   "outputs": [
    {
     "name": "stdout",
     "output_type": "stream",
     "text": [
      "-2.0 0.0\n"
     ]
    }
   ],
   "source": [
    "if delta < 0:\n",
    "    print('Nao existem solucoes reais')\n",
    "else:\n",
    "    x1 = (-b - delta**.5) / (2*a)\n",
    "    x2 = (-b + delta**.5) / (2*a)\n",
    "\n",
    "    print(x1, x2)"
   ]
  },
  {
   "cell_type": "markdown",
   "metadata": {},
   "source": [
    "$$ax^2 + bx + c = 0$$"
   ]
  },
  {
   "cell_type": "code",
   "execution_count": 49,
   "metadata": {},
   "outputs": [
    {
     "data": {
      "text/plain": [
       "0"
      ]
     },
     "execution_count": 49,
     "metadata": {},
     "output_type": "execute_result"
    }
   ],
   "source": [
    "a*(0)**2 + b*(0) + c"
   ]
  },
  {
   "cell_type": "code",
   "execution_count": 53,
   "metadata": {},
   "outputs": [
    {
     "data": {
      "text/plain": [
       "1.4142135623730951"
      ]
     },
     "execution_count": 53,
     "metadata": {},
     "output_type": "execute_result"
    }
   ],
   "source": [
    "x1, x2 = 5, 6\n",
    "y1, y2 = 7, 8\n",
    "\n",
    "dx = x2 - x1\n",
    "dy = y2 - y1\n",
    "\n",
    "h = (dx ** 2 + dy ** 2) ** .5\n",
    "h"
   ]
  }
 ],
 "metadata": {
  "kernelspec": {
   "display_name": "Python 3.10.4 64-bit",
   "language": "python",
   "name": "python3"
  },
  "language_info": {
   "codemirror_mode": {
    "name": "ipython",
    "version": 3
   },
   "file_extension": ".py",
   "mimetype": "text/x-python",
   "name": "python",
   "nbconvert_exporter": "python",
   "pygments_lexer": "ipython3",
   "version": "3.10.4"
  },
  "orig_nbformat": 4,
  "vscode": {
   "interpreter": {
    "hash": "e7370f93d1d0cde622a1f8e1c04877d8463912d04d973331ad4851f04de6915a"
   }
  }
 },
 "nbformat": 4,
 "nbformat_minor": 2
}
