{
 "cells": [
  {
   "cell_type": "markdown",
   "metadata": {},
   "source": [
    "<h1>Arquivos</h1>"
   ]
  },
  {
   "cell_type": "code",
   "execution_count": null,
   "metadata": {},
   "outputs": [],
   "source": [
    "arquivo = open('arquivo.txt', 'w')\n",
    "\n",
    "# Modos de abertura:\n",
    "# r - abre para leitura\n",
    "# w - abre para escrita\n",
    "# a - abre para escrita, adicionando o conteúdo ao final do arquivo\n",
    "# r+ - abre para leitura e escrita\n",
    "# w+ - abre para leitura e escrita, sobrescrevendo o arquivo\n",
    "# a+ - abre para leitura e escrita, adicionando o conteúdo ao final do arquivo\n",
    "\n",
    "fo = open(\"foo.txt\", \"wb\")\n",
    "print(\"Name of the file: \", fo.name)\n",
    "print(\"Closed or not : \", fo.closed)\n",
    "print(\"Opening mode : \", fo.mode)\n",
    "print(\"Softspace flag : \", fo.softspace)\n",
    "\n",
    "# Escrevendo no arquivo\n",
    "fo.write(bytes(\"This is line 1\\n\", 'UTF-8'))\n",
    "fo.write(bytes(\"This is line 2\\n\", 'UTF-8'))\n",
    "fo.write(bytes(\"This is line 3\\n\", 'UTF-8'))\n",
    "\n",
    "# Funcao close()\n",
    "# Essa funcao faz o fechamento do arquivo e o flush\n",
    "# Depois de chamar a funcao close(), nao podemos mais escrever no arquivo\n",
    "fo.close()"
   ]
  }
 ],
 "metadata": {
  "language_info": {
   "name": "python"
  },
  "orig_nbformat": 4
 },
 "nbformat": 4,
 "nbformat_minor": 2
}
