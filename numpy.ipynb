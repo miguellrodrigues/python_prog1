{
 "cells": [
  {
   "cell_type": "code",
   "execution_count": 2,
   "metadata": {
    "pycharm": {
     "name": "#%%\n"
    }
   },
   "outputs": [],
   "source": [
    "# O Numpy eh uma biblioteca de algoritmos de matrizes e vetores\n",
    "# Onde a matriz e o vetor sao definidos como listas de listas\n",
    "\n",
    "# Importando a biblioteca numpy\n",
    "import numpy as np\n",
    "\n",
    "import matplotlib.pyplot as plt"
   ]
  },
  {
   "cell_type": "code",
   "execution_count": 3,
   "metadata": {
    "pycharm": {
     "name": "#%%\n"
    }
   },
   "outputs": [
    {
     "name": "stdout",
     "output_type": "stream",
     "text": [
      " \n",
      "[1 2 3 4 5]\n",
      "[[0. 0.]\n",
      " [0. 0.]]\n",
      "[1. 1. 1. 1.]\n",
      "[[1. 0. 0.]\n",
      " [0. 1. 0.]\n",
      " [0. 0. 1.]]\n",
      "[[0.24208661 0.90211745 0.098708   0.15395993]\n",
      " [0.67615321 0.81711643 0.65074133 0.9659119 ]\n",
      " [0.17882007 0.096187   0.99786731 0.12793523]\n",
      " [0.46990572 0.09482841 0.0728316  0.91887529]]\n",
      "[[9 5 0 9]\n",
      " [5 9 0 7]\n",
      " [2 5 4 8]\n",
      " [9 7 8 7]]\n",
      "[ 0.  1.  2.  3.  4.  5.  6.  7.  8.  9. 10.]\n",
      "[0 2 4 6 8]\n",
      " \n"
     ]
    }
   ],
   "source": [
    "# Criando Arrays\n",
    "# Onde o array eh um vetor ou matriz\n",
    "\n",
    "array_1 = np.array([1, 2, 3, 4, 5])\n",
    "array_2 = np.zeros((2, 2))  # 2 linhas e 2 colunas\n",
    "array_3 = np.ones(4)  # 4 elementos com valor 1\n",
    "array_4 = np.eye(3)  # Matriz identidade 3x3\n",
    "array_5 = np.random.rand(4, 4)  # Matriz aleatoria 4x4\n",
    "array_6 = np.random.randint(0, 10, (4, 4))  # Matriz aleatoria 4x4 com valores entre 0 e 10\n",
    "array_7 = np.linspace(0, 10, 11)  # Vetor com 11 elementos de 0 a 10\n",
    "array_8 = np.arange(0, 10, 2)  # Vetor com 5 elementos de 0 a 10 de 2 em 2\n",
    "\n",
    "print(' ')\n",
    "print(array_1, array_2, array_3, array_4, array_5, array_6, array_7, array_8, sep='\\n')\n",
    "print(' ')\n"
   ]
  },
  {
   "cell_type": "markdown",
   "metadata": {
    "pycharm": {
     "name": "#%% md\n"
    }
   },
   "source": [
    "<h1>Operacoes com Arrays</h1>"
   ]
  },
  {
   "cell_type": "code",
   "execution_count": 4,
   "metadata": {
    "pycharm": {
     "name": "#%%\n"
    }
   },
   "outputs": [
    {
     "name": "stdout",
     "output_type": "stream",
     "text": [
      "[ 4  8 12 16 20]\n",
      " \n",
      "[False  True  True  True  True]\n"
     ]
    }
   ],
   "source": [
    "# Multiplicacao escalar\n",
    "\n",
    "print(array_1 * 4)\n",
    "print(' ')\n",
    "print(array_1 * 4 > 6)\n",
    "\n",
    "# Teste com os outros operadores aritmeticos"
   ]
  },
  {
   "cell_type": "markdown",
   "metadata": {
    "pycharm": {
     "name": "#%% md\n"
    }
   },
   "source": [
    "<h1>Obtendo elementos de um array</h1>"
   ]
  },
  {
   "cell_type": "code",
   "execution_count": 5,
   "metadata": {
    "pycharm": {
     "name": "#%%\n"
    }
   },
   "outputs": [
    {
     "name": "stdout",
     "output_type": "stream",
     "text": [
      " \n",
      "[1 2]\n",
      "[3 4 5]\n",
      "[1 3 5]\n",
      "[2 4]\n",
      "[5 4 3 2 1]\n",
      " \n"
     ]
    }
   ],
   "source": [
    "print(' ')\n",
    "print(array_1[:2])  # Obtendo os dois primeiros elementos\n",
    "print(array_1[2:])  # Obtendo os elementos a partir do terceiro\n",
    "print(array_1[::2])  # Obtendo os elementos pares (indice)\n",
    "print(array_1[1::2])  # Obtendo os elementos impares (indice)\n",
    "print(array_1[::-1])  # Obtendo os elementos em ordem inversa\n",
    "print(' ')"
   ]
  },
  {
   "cell_type": "markdown",
   "metadata": {
    "pycharm": {
     "name": "#%% md\n"
    }
   },
   "source": [
    "<h1>Cálculo e Funções Estatísticas</h1>"
   ]
  },
  {
   "cell_type": "code",
   "execution_count": 6,
   "metadata": {
    "pycharm": {
     "name": "#%%\n"
    }
   },
   "outputs": [
    {
     "name": "stdout",
     "output_type": "stream",
     "text": [
      "-0.000119398434440388\n",
      "1.002225674217095\n"
     ]
    }
   ],
   "source": [
    "dados = np.random.randn(10000)\n",
    "\n",
    "# Media\n",
    "print(np.mean(dados))\n",
    "\n",
    "# Desvio padrao\n",
    "print(np.std(dados))"
   ]
  },
  {
   "cell_type": "markdown",
   "metadata": {
    "pycharm": {
     "name": "#%% md\n"
    }
   },
   "source": [
    "Integrais e Derivadas"
   ]
  },
  {
   "cell_type": "markdown",
   "metadata": {
    "pycharm": {
     "name": "#%% md\n"
    }
   },
   "source": [
    "$$ \\int_1^{10} \\frac{\\sin(2x)}{x^2} dx $$"
   ]
  },
  {
   "cell_type": "code",
   "execution_count": 7,
   "metadata": {
    "pycharm": {
     "name": "#%%\n"
    }
   },
   "outputs": [
    {
     "data": {
      "text/plain": [
       "<matplotlib.legend.Legend at 0x7fc60d76a620>"
      ]
     },
     "execution_count": 7,
     "metadata": {},
     "output_type": "execute_result"
    },
    {
     "data": {
      "image/png": "[encoded data removed]",
      "text/plain": [
       "<Figure size 432x288 with 1 Axes>"
      ]
     },
     "metadata": {
      "needs_background": "light"
     },
     "output_type": "display_data"
    }
   ],
   "source": [
    "x = np.linspace(5, 10, 1000)\n",
    "y = np.sin(2*x)/x**2\n",
    "\n",
    "dydx = np.gradient(y, x)\n",
    "integral = np.cumsum(y) * (x[1] - x[0])\n",
    "\n",
    "plt.plot(x, y)\n",
    "plt.plot(x, dydx)\n",
    "plt.plot(x, integral)\n",
    "\n",
    "plt.legend(['y', 'dydx', 'integral'])\n"
   ]
  },
  {
   "cell_type": "markdown",
   "metadata": {
    "pycharm": {
     "name": "#%% md\n"
    }
   },
   "source": [
    "<h3>Faça uma soma dos numeros entre 0 e 10000 exceto aqueles que podem ser divididos por 4 ou 7</h3>"
   ]
  },
  {
   "cell_type": "code",
   "execution_count": 8,
   "metadata": {
    "pycharm": {
     "name": "#%%\n"
    }
   },
   "outputs": [
    {
     "data": {
      "text/plain": [
       "3214314283"
      ]
     },
     "execution_count": 8,
     "metadata": {},
     "output_type": "execute_result"
    }
   ],
   "source": [
    "num = np.arange(0, 100001, 1)\n",
    "soma = num[(num%4!=0) * (num%7!=0)].sum()\n",
    "soma"
   ]
  },
  {
   "cell_type": "markdown",
   "metadata": {
    "pycharm": {
     "name": "#%% md\n"
    }
   },
   "source": [
    "Considere a função $r(\\theta) = 1+\\frac{3}{4}\\sin(3 \\theta)$ para $0 \\leq \\theta \\leq 2 \\pi$\n",
    "\n",
    "1. Faça um plot da função\n",
    "2. Calcule a área usando a fórmula $A = \\int_{0}^{2\\pi} \\frac{1}{2} r^2 d\\theta$\n",
    "3. Calcule o perímetro usando a fórmula $L = \\int_{0}^{2 \\pi} \\sqrt{r^2 + \\left(\\frac{dr}{d\\theta}\\right)^2} d\\theta$"
   ]
  },
  {
   "cell_type": "code",
   "execution_count": 9,
   "metadata": {
    "pycharm": {
     "name": "#%%\n"
    }
   },
   "outputs": [
    {
     "data": {
      "text/plain": [
       "(4.028310324802903, 11.640021569013866)"
      ]
     },
     "execution_count": 9,
     "metadata": {},
     "output_type": "execute_result"
    },
    {
     "data": {
      "image/png": "[encoded data removed]",
      "text/plain": [
       "<Figure size 432x288 with 1 Axes>"
      ]
     },
     "metadata": {
      "needs_background": "light"
     },
     "output_type": "display_data"
    }
   ],
   "source": [
    "theta = np.linspace(0, 2*np.pi, 1000)\n",
    "\n",
    "r = 1 + (3*np.sin(3*theta))/4\n",
    "\n",
    "x = r*np.cos(theta)\n",
    "y = r*np.sin(theta)\n",
    "\n",
    "## 1\n",
    "plt.plot(x, y)\n",
    "\n",
    "## 2\n",
    "d_theta = theta[1] - theta[0]\n",
    "A = 1/2 * np.sum(r**2) * d_theta\n",
    "\n",
    "## 3\n",
    "d_r = r[1] - r[0]\n",
    "L = np.sum(\n",
    "    np.sqrt(r**2 + np.gradient(r, theta)**2)\n",
    ") * d_theta\n",
    "\n",
    "A, L\n"
   ]
  }
 ],
 "metadata": {
  "kernelspec": {
   "display_name": "Python 3.10.4 ('venv': venv)",
   "language": "python",
   "name": "python3"
  },
  "language_info": {
   "codemirror_mode": {
    "name": "ipython",
    "version": 3
   },
   "file_extension": ".py",
   "mimetype": "text/x-python",
   "name": "python",
   "nbconvert_exporter": "python",
   "pygments_lexer": "ipython3",
   "version": "3.10.4"
  },
  "orig_nbformat": 4,
  "vscode": {
   "interpreter": {
    "hash": "9843286b9ea6ed007eafc4373eea528a2ecede4594523a84f908700cacf9e482"
   }
  }
 },
 "nbformat": 4,
 "nbformat_minor": 2
}