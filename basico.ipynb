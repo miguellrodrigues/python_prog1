{
 "cells": [
  {
   "cell_type": "code",
   "execution_count": 1,
   "metadata": {
    "pycharm": {
     "name": "#%%\n"
    }
   },
   "outputs": [
    {
     "data": {
      "text/plain": [
       "3.1415"
      ]
     },
     "execution_count": 1,
     "metadata": {},
     "output_type": "execute_result"
    }
   ],
   "source": [
    "# Declarando Variaveis\n",
    "# Em Python as variaveis tem tipagem fraca, e podem assumir quaisquer tipos de dados\n",
    "# Por exemplo, voce pode declarar uma variavel como inteiro, \n",
    "# e depois atribuir um valor do tipo float a ela\n",
    "\n",
    "var1 = 1\n",
    "var1 = 3.1415\n",
    "\n",
    "var1"
   ]
  },
  {
   "cell_type": "code",
   "execution_count": 3,
   "metadata": {
    "pycharm": {
     "name": "#%%\n"
    }
   },
   "outputs": [
    {
     "name": "stdout",
     "output_type": "stream",
     "text": [
      "3\n",
      "-1\n",
      "2\n",
      "0.5\n",
      "1\n",
      "1\n"
     ]
    }
   ],
   "source": [
    "# Operadores Aritmeticos\n",
    "# + - * / % **\n",
    "\n",
    "var1 = 1\n",
    "var2 = 2\n",
    "\n",
    "op_1 = var1 + var2  # Soma\n",
    "op_2 = var1 - var2  # Subtracao\n",
    "op_3 = var1 * var2  # Multiplicacao\n",
    "op_4 = var1 / var2  # Divisao\n",
    "op_5 = var1 % var2  # Modulo (Resto da divisao)\n",
    "op_6 = var1 ** var2 # Potencia\n",
    "\n",
    "print(op_1)\n",
    "print(op_2)\n",
    "print(op_3)\n",
    "print(op_4)\n",
    "print(op_5)\n",
    "print(op_6)"
   ]
  },
  {
   "cell_type": "code",
   "execution_count": 4,
   "metadata": {
    "pycharm": {
     "name": "#%%\n"
    }
   },
   "outputs": [
    {
     "data": {
      "text/plain": [
       "int"
      ]
     },
     "execution_count": 4,
     "metadata": {},
     "output_type": "execute_result"
    }
   ],
   "source": [
    "# E possivel obter o tipo da variavel atraves da funcao type\n",
    "\n",
    "type(op_1)"
   ]
  },
  {
   "cell_type": "code",
   "execution_count": 8,
   "metadata": {
    "pycharm": {
     "name": "#%%\n"
    }
   },
   "outputs": [
    {
     "name": "stdout",
     "output_type": "stream",
     "text": [
      "Faz algo\n",
      "<class 'function'>\n"
     ]
    },
    {
     "data": {
      "text/plain": [
       "3"
      ]
     },
     "execution_count": 8,
     "metadata": {},
     "output_type": "execute_result"
    }
   ],
   "source": [
    "# Criando funcoes\n",
    "# Funcoes sao blocos de codigo que podem ser chamados ao inves de repetir o codigo\n",
    "# Exemplo:\n",
    "# def funcao_nome(parametro_1, parametro_2):\n",
    "#     codigo_da_funcao\n",
    "#     return valor_retornado\n",
    "\n",
    "# As funcoes podem ou nao retornar um valor\n",
    "\n",
    "\n",
    "def soma(a, b):\n",
    "    return a+b\n",
    "\n",
    "\n",
    "def faz_algo():\n",
    "    print('Faz algo')\n",
    "\n",
    "faz_algo()\n",
    "print(type(faz_algo))\n",
    "soma(1, 2)"
   ]
  },
  {
   "cell_type": "code",
   "execution_count": 14,
   "metadata": {
    "pycharm": {
     "name": "#%%\n"
    }
   },
   "outputs": [
    {
     "name": "stdout",
     "output_type": "stream",
     "text": [
      "120\n",
      "8\n"
     ]
    }
   ],
   "source": [
    "# Funcoes recursivas\n",
    "# Funcoes recursivas sao funcoes que chamam a si mesmas, criando uma sequencia de chamadas\n",
    "\n",
    "# Funcao fatorial\n",
    "# Exemplo:\n",
    "def fatorial(n):\n",
    "    if n == 0:  # Criterio de parada\n",
    "        return 1\n",
    "    else:\n",
    "        return n * fatorial(n-1)\n",
    "\n",
    "\n",
    "# Funcao exponnecial\n",
    "def exponencial(base, expoente):\n",
    "    if expoente == 0:  # Criterio de parada\n",
    "        return 1\n",
    "    else:\n",
    "        return base * exponencial(base, expoente - 1)\n",
    "\n",
    "\n",
    "print(fatorial(5))\n",
    "print(exponencial(2, 3))"
   ]
  },
  {
   "cell_type": "code",
   "execution_count": 15,
   "metadata": {
    "pycharm": {
     "name": "#%%\n"
    }
   },
   "outputs": [
    {
     "name": "stdout",
     "output_type": "stream",
     "text": [
      "3\n"
     ]
    }
   ],
   "source": [
    "# Funcoes lambda\n",
    "# Uma funcao lambda eh um funcao anonima que pode receber diversos parametros, mas\n",
    "# possui somente uma expressao (ou uma linha de codigo)\n",
    "\n",
    "# Exemplo\n",
    "somar = lambda a, b: a+b\n",
    "\n",
    "print(somar(1, 2))"
   ]
  },
  {
   "cell_type": "code",
   "execution_count": 29,
   "metadata": {
    "pycharm": {
     "name": "#%%\n"
    }
   },
   "outputs": [
    {
     "name": "stdout",
     "output_type": "stream",
     "text": [
      "0\n",
      "1\n",
      "2\n",
      "3\n",
      "4\n",
      "5\n",
      "6\n",
      "7\n",
      "8\n",
      "9\n",
      "0\n",
      "2\n",
      "4\n",
      "6\n",
      "8\n",
      " \n",
      "pacifico 0\n",
      "atlantico 1\n",
      "indico 2\n",
      "arctico 3\n",
      "antartico 4\n",
      " \n",
      "pacifico\n",
      "atlantico\n",
      "indico\n",
      "arctico\n",
      "antartico\n"
     ]
    }
   ],
   "source": [
    "# Lacos de repeticao\n",
    "# Sao blocos de codigo que executam repetidamente um determinado codigo ate que seja encontrado um criterio de parada\n",
    "# Exemplo:\n",
    "\n",
    "# Neste caso, o laco de repeticao executa o codigo dentro de seu escopo enquanto o valor de i é menor que 10\n",
    "# O valor de i eh incrementado em 1 a cada iteracao\n",
    "for i in range(10):\n",
    "    print(i)\n",
    "\n",
    "# O incremento pode ser alterado pela propriedade 'step'\n",
    "for i in range(0, 10, 2):\n",
    "    print(i)\n",
    "\n",
    "\n",
    "oceanos = ['pacifico', 'atlantico', 'indico', 'arctico', 'antartico']\n",
    "\n",
    "# For inedexado\n",
    "# A funcao 'len' retorna o numero de elementos de um iterable\n",
    "print(' ')\n",
    "for i in range(len(oceanos)):\n",
    "    print(oceanos[i], i)\n",
    "\n",
    "# For each\n",
    "print(' ')\n",
    "for oceano in oceanos:\n",
    "    print(oceano)\n"
   ]
  },
  {
   "cell_type": "code",
   "execution_count": 22,
   "metadata": {
    "pycharm": {
     "name": "#%%\n"
    }
   },
   "outputs": [
    {
     "name": "stdout",
     "output_type": "stream",
     "text": [
      "arroz\n",
      "1\n",
      " \n",
      "arroz\n",
      "feijao\n",
      "carne\n",
      "1\n",
      "3.1415\n",
      " \n",
      "['arroz_frito', 'feijao', 'carne', 1, 3.1415]\n"
     ]
    }
   ],
   "source": [
    "# Listas\n",
    "# Listas sao sequencias de dados, como arrays em outras linguagens\n",
    "# Em Python, listas podem conter variados tipos de dados\n",
    "# Listas sao mutaveis\n",
    "# Listas sao indexadas\n",
    "# Listas sao iteraveis\n",
    "\n",
    "lista_de_compras = ['arroz', 'feijao', 'carne', 1, 3.1415]\n",
    "\n",
    "# Acessando elementos da lista\n",
    "print(lista_de_compras[0])  # Retorna o primeiro elemento (Indice 0)\n",
    "\n",
    "# Encontrando o indice pelo elemento\n",
    "print(lista_de_compras.index('feijao'))  # Retorna o indice do elemento\n",
    "\n",
    "# Iterando atraves da lista\n",
    "print(' ')\n",
    "for item in lista_de_compras:\n",
    "    print(item)\n",
    "\n",
    "\n",
    "# Alterando o valor de um elemento\n",
    "lista_de_compras[0] = 'arroz_frito'\n",
    "\n",
    "print(' ')\n",
    "print(lista_de_compras)"
   ]
  },
  {
   "cell_type": "code",
   "execution_count": 24,
   "metadata": {
    "pycharm": {
     "name": "#%%\n"
    }
   },
   "outputs": [
    {
     "name": "stdout",
     "output_type": "stream",
     "text": [
      "Joao\n",
      "Rio de Janeiro\n",
      " \n",
      "{'joao': {'nome': 'Joao', 'idade': 20, 'cidade': 'Sao Paulo'}, 'maria': {'nome': 'Maria', 'idade': 25, 'cidade': 'Rio de Janeiro'}}\n"
     ]
    }
   ],
   "source": [
    "# Dicionarios\n",
    "# Dicionarios sao sequencias de pares chave/valor\n",
    "# Em Python, dicionarios sao mutaveis\n",
    "# Dicionarios sao indexados por chave\n",
    "# Dicionarios sao iteraveis\n",
    "\n",
    "pessoas = {\n",
    "    'joao': {\n",
    "        'nome': 'Joao',\n",
    "        'idade': 20,\n",
    "        'cidade': 'Sao Paulo'\n",
    "    },\n",
    "    'maria': {\n",
    "        'nome': 'Maria',\n",
    "        'idade': 25,\n",
    "        'cidade': 'Rio de Janeiro'\n",
    "    }\n",
    "}\n",
    "\n",
    "print(pessoas['joao']['nome'])\n",
    "print(pessoas['maria']['cidade'])\n",
    "\n",
    "print(' ')\n",
    "print(pessoas)"
   ]
  }
 ],
 "metadata": {
  "kernelspec": {
   "display_name": "Python 3.10.4 ('venv': venv)",
   "language": "python",
   "name": "python3"
  },
  "language_info": {
   "codemirror_mode": {
    "name": "ipython",
    "version": 3
   },
   "file_extension": ".py",
   "mimetype": "text/x-python",
   "name": "python",
   "nbconvert_exporter": "python",
   "pygments_lexer": "ipython3",
   "version": "3.10.4"
  },
  "orig_nbformat": 4,
  "vscode": {
   "interpreter": {
    "hash": "9843286b9ea6ed007eafc4373eea528a2ecede4594523a84f908700cacf9e482"
   }
  }
 },
 "nbformat": 4,
 "nbformat_minor": 2
}